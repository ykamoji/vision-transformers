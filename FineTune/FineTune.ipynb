{
 "cells": [
  {
   "cell_type": "code",
   "execution_count": null,
   "id": "initial_id",
   "metadata": {
    "collapsed": true
   },
   "outputs": [],
   "source": [
    "import numpy as np\n",
    "import torch\n",
    "import torch.nn as nn\n",
    "import matplotlib.pyplot as plt\n",
    "from datasets import load_dataset, load_metric\n",
    "from transformers import ViTImageProcessor, ViTForImageClassification\n",
    "from PIL import Image\n",
    "from transformers import TrainingArguments\n",
    "from transformers import Trainer"
   ]
  },
  {
   "cell_type": "code",
   "execution_count": null,
   "outputs": [],
   "source": [
    "device = torch.device('mps')\n",
    "device"
   ],
   "metadata": {
    "collapsed": false
   },
   "id": "13f36d35fbdb062e"
  },
  {
   "cell_type": "code",
   "execution_count": null,
   "outputs": [],
   "source": [
    "dataset_train = load_dataset('cifar10',split='train[:10%]', verification_mode='no_checks', cache_dir='/Users/ykamoji/Documents/ImageDatabase/cifar10/train')\n",
    "dataset_test = load_dataset('cifar10', split='test[:10%]', verification_mode='no_checks', cache_dir='/Users/ykamoji/Documents/ImageDatabase/cifar10/test')"
   ],
   "metadata": {
    "collapsed": false
   },
   "id": "28d6f815c9ef0502"
  },
  {
   "cell_type": "code",
   "execution_count": null,
   "outputs": [],
   "source": [
    "print(dataset_train)\n",
    "print(dataset_test)\n",
    "num_classes = len(set(dataset_train['label']))\n",
    "labels = dataset_train.features['label']\n",
    "num_classes, labels"
   ],
   "metadata": {
    "collapsed": false
   },
   "id": "b9c2a5cea2eeb932"
  },
  {
   "cell_type": "code",
   "execution_count": null,
   "outputs": [],
   "source": [
    "dataset_train[0]['img']"
   ],
   "metadata": {
    "collapsed": false
   },
   "id": "9e9e7cd9070c537a"
  },
  {
   "cell_type": "code",
   "execution_count": null,
   "outputs": [],
   "source": [
    "dataset_train[0]['label'], labels.names[dataset_train[0]['label']]"
   ],
   "metadata": {
    "collapsed": false
   },
   "id": "1542bca302ff6305"
  },
  {
   "cell_type": "code",
   "execution_count": null,
   "outputs": [],
   "source": [
    "model_name = 'google/vit-base-patch16-224-in21k'\n",
    "feature_extractor = ViTImageProcessor.from_pretrained(model_name, cache_dir='models/')"
   ],
   "metadata": {
    "collapsed": false
   },
   "id": "235121303cfd15fc"
  },
  {
   "cell_type": "code",
   "execution_count": null,
   "outputs": [],
   "source": [
    "feature_extractor"
   ],
   "metadata": {
    "collapsed": false
   },
   "id": "d83d58f35972c3b8"
  },
  {
   "cell_type": "code",
   "execution_count": null,
   "outputs": [],
   "source": [
    "print(dataset_train[0]['img'].size)\n",
    "example = feature_extractor(dataset_train[0]['img'], return_tensors='pt')\n",
    "print(example['pixel_values'].shape)"
   ],
   "metadata": {
    "collapsed": false
   },
   "id": "360424cafe91a856"
  },
  {
   "cell_type": "code",
   "execution_count": null,
   "outputs": [],
   "source": [
    "def preprocess(batchImage):\n",
    "    inputs = feature_extractor(batchImage['img'], return_tensors='pt')\n",
    "    inputs['label'] = batchImage['label']\n",
    "    return inputs"
   ],
   "metadata": {
    "collapsed": false
   },
   "id": "8730a10c918ec798"
  },
  {
   "cell_type": "code",
   "execution_count": null,
   "outputs": [],
   "source": [
    "prepared_train = dataset_train.with_transform(preprocess)\n",
    "prepared_test = dataset_test.with_transform(preprocess)"
   ],
   "metadata": {
    "collapsed": false
   },
   "id": "ead1250ba8ffb3d4"
  },
  {
   "cell_type": "code",
   "execution_count": null,
   "outputs": [],
   "source": [
    "def collate_fn(batch):\n",
    "    return {\n",
    "        'pixel_values': torch.stack([x['pixel_values'] for x in batch]),\n",
    "        'labels': torch.tensor([x['label'] for x in batch])\n",
    "    }"
   ],
   "metadata": {
    "collapsed": false
   },
   "id": "63687dfc9b19cc5b"
  },
  {
   "cell_type": "code",
   "execution_count": null,
   "outputs": [],
   "source": [
    "metric = load_metric(\"accuracy\", cache_dir='metrics/', trust_remote_code=True)\n",
    "def compute_metrics(p):\n",
    "    return metric.compute(\n",
    "        predictions=np.argmax(p.predictions, axis=1),\n",
    "        references=p.label_ids\n",
    "    )"
   ],
   "metadata": {
    "collapsed": false
   },
   "id": "70ac6b379e4279b0"
  },
  {
   "cell_type": "code",
   "execution_count": null,
   "outputs": [],
   "source": [
    "training_args = TrainingArguments(\n",
    "  output_dir=\"cifar\",\n",
    "  per_device_train_batch_size=16,\n",
    "  evaluation_strategy=\"steps\",\n",
    "  num_train_epochs=4,\n",
    "  save_steps=100,\n",
    "  eval_steps=100,\n",
    "  logging_steps=10,\n",
    "  learning_rate=2e-4,\n",
    "  save_total_limit=2,\n",
    "  remove_unused_columns=False,\n",
    "  push_to_hub=False,\n",
    "  load_best_model_at_end=True\n",
    ")"
   ],
   "metadata": {
    "collapsed": false
   },
   "id": "99d4b739d8bfe083"
  },
  {
   "cell_type": "code",
   "execution_count": null,
   "outputs": [],
   "source": [
    "labels = dataset_train.features['label'].names\n",
    "\n",
    "model = ViTForImageClassification.from_pretrained(model_name, num_labels=len(labels), cache_dir='models/')"
   ],
   "metadata": {
    "collapsed": false
   },
   "id": "521b8a94932cd6a5"
  },
  {
   "cell_type": "code",
   "execution_count": null,
   "outputs": [],
   "source": [
    "model.to(device)"
   ],
   "metadata": {
    "collapsed": false
   },
   "id": "7d045b1984c201c2"
  },
  {
   "cell_type": "code",
   "execution_count": null,
   "outputs": [],
   "source": [
    "trainer = Trainer(\n",
    "    model=model,\n",
    "    args=training_args,\n",
    "    data_collator=collate_fn,\n",
    "    compute_metrics=compute_metrics,\n",
    "    train_dataset=prepared_train,\n",
    "    eval_dataset=prepared_test,\n",
    "    tokenizer=feature_extractor,\n",
    ")"
   ],
   "metadata": {
    "collapsed": false
   },
   "id": "4589e075e9bd8438"
  },
  {
   "cell_type": "code",
   "execution_count": null,
   "outputs": [],
   "source": [
    "train_results = trainer.train()"
   ],
   "metadata": {
    "collapsed": false
   },
   "id": "3c37739be2ae5e3c"
  },
  {
   "cell_type": "code",
   "execution_count": null,
   "outputs": [],
   "source": [
    "trainer.save_model()\n",
    "trainer.log_metrics(\"train\", train_results.metrics)\n",
    "trainer.save_metrics(\"train\", train_results.metrics)\n",
    "# save the trainer state\n",
    "trainer.save_state()"
   ],
   "metadata": {
    "collapsed": false
   },
   "id": "eecbbb981ca9b435"
  },
  {
   "cell_type": "code",
   "execution_count": null,
   "outputs": [],
   "source": [
    "metrics = trainer.evaluate(prepared_test)\n",
    "trainer.log_metrics(\"eval\", metrics)\n",
    "trainer.save_metrics(\"eval\", metrics)"
   ],
   "metadata": {
    "collapsed": false
   },
   "id": "8849bb44d4d1fda5"
  },
  {
   "cell_type": "code",
   "execution_count": null,
   "outputs": [],
   "source": [
    "image = dataset_test[\"img\"][0].resize((200,200))\n",
    "image"
   ],
   "metadata": {
    "collapsed": false
   },
   "id": "cad435ae07adaa4f"
  },
  {
   "cell_type": "code",
   "execution_count": null,
   "outputs": [],
   "source": [
    "# extract the actual label of the first image of the testing dataset\n",
    "actual_label = dataset_test[\"label\"][0]\n",
    "\n",
    "labels = dataset_test.features['label']\n",
    "actual_label, labels.names[actual_label]"
   ],
   "metadata": {
    "collapsed": false
   },
   "id": "954c9235c01536bb"
  },
  {
   "cell_type": "code",
   "execution_count": null,
   "outputs": [],
   "source": [
    "model_name_or_path = 'LaCarnevali/vit-cifar10'\n",
    "model_finetuned = ViTForImageClassification.from_pretrained(model_name_or_path)\n",
    "# import features\n",
    "feature_extractor_finetuned = ViTImageProcessor.from_pretrained(model_name_or_path)"
   ],
   "metadata": {
    "collapsed": false
   },
   "id": "541852f68281b9a6"
  },
  {
   "cell_type": "code",
   "execution_count": null,
   "outputs": [],
   "source": [
    "inputs = feature_extractor_finetuned(image, return_tensors=\"pt\")\n",
    "\n",
    "with torch.no_grad():\n",
    "    logits = model_finetuned(**inputs).logits"
   ],
   "metadata": {
    "collapsed": false
   },
   "id": "f83eef8ddbd5d4a5"
  },
  {
   "cell_type": "code",
   "execution_count": null,
   "outputs": [],
   "source": [
    "predicted_label = logits.argmax(-1).item()\n",
    "labels = dataset_test.features['label']\n",
    "labels.names[predicted_label]"
   ],
   "metadata": {
    "collapsed": false
   },
   "id": "ba65c31fae5f743f"
  }
 ],
 "metadata": {
  "kernelspec": {
   "display_name": "Python 3",
   "language": "python",
   "name": "python3"
  },
  "language_info": {
   "codemirror_mode": {
    "name": "ipython",
    "version": 2
   },
   "file_extension": ".py",
   "mimetype": "text/x-python",
   "name": "python",
   "nbconvert_exporter": "python",
   "pygments_lexer": "ipython2",
   "version": "2.7.6"
  }
 },
 "nbformat": 4,
 "nbformat_minor": 5
}
