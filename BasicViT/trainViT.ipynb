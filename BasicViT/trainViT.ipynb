{
 "cells": [
  {
   "cell_type": "code",
   "execution_count": 1,
   "id": "initial_id",
   "metadata": {
    "tags": []
   },
   "outputs": [],
   "source": [
    "import numpy as np\n",
    "import torch\n",
    "from torchvision import transforms\n",
    "import matplotlib.pyplot as plt\n",
    "import lightning as L\n",
    "from lightning import Trainer\n",
    "import torchvision\n",
    "from torch.utils.data import DataLoader, Subset\n",
    "from PIL import Image\n",
    "from vit_models import VisionTransformer\n",
    "import torch.nn.functional as F\n",
    "from torchmetrics.classification import Accuracy"
   ]
  },
  {
   "cell_type": "code",
   "execution_count": 14,
   "id": "451200b0848687df",
   "metadata": {
    "collapsed": false,
    "jupyter": {
     "outputs_hidden": false
    },
    "tags": []
   },
   "outputs": [],
   "source": [
    "batch_size = 100\n",
    "lr = 0.01"
   ]
  },
  {
   "cell_type": "code",
   "execution_count": 3,
   "id": "d81272c2f79c426a",
   "metadata": {
    "collapsed": false,
    "jupyter": {
     "outputs_hidden": false
    },
    "tags": []
   },
   "outputs": [],
   "source": [
    "compose = transforms.Compose([\n",
    "# transforms.Resize(size=(384, 384), antialias=True),\n",
    "transforms.ToTensor()\n",
    "])\n",
    "# plt.imshow(torch.permute(resize(train_dataset[index][0]), (1,2,0)).numpy())"
   ]
  },
  {
   "cell_type": "code",
   "execution_count": 4,
   "id": "1476cd7b566d2576",
   "metadata": {
    "collapsed": false,
    "jupyter": {
     "outputs_hidden": false
    },
    "tags": []
   },
   "outputs": [],
   "source": [
    "train_dataset = torchvision.datasets.ImageFolder(root='/Users/ykamoji/Documents/ImageDatabase/imageNet/tiny-imagenet-200/train', transform=compose)\n",
    "train_loader = DataLoader(train_dataset, batch_size=batch_size, shuffle=True, num_workers=11, persistent_workers=True)"
   ]
  },
  {
   "cell_type": "code",
   "execution_count": 5,
   "id": "b1a36df4f6567daf",
   "metadata": {
    "collapsed": false,
    "jupyter": {
     "outputs_hidden": false
    },
    "tags": []
   },
   "outputs": [
    {
     "name": "stdout",
     "output_type": "stream",
     "text": [
      "0 n01443537 goldfish, Carassius auratus\n",
      "1 n01629819 European fire salamander, Salamandra salamandra\n",
      "2 n01641577 bullfrog, Rana catesbeiana\n",
      "3 n01644900 tailed frog, bell toad, ribbed toad, tailed toad, Ascaphus trui\n",
      "4 n01698640 American alligator, Alligator mississipiensis\n",
      "5 n01742172 boa constrictor, Constrictor constrictor\n",
      "6 n01768244 trilobite\n",
      "7 n01770393 scorpion\n",
      "8 n01774384 black widow, Latrodectus mactans\n",
      "9 n01774750 tarantula\n",
      "10 n01784675 centipede\n",
      "11 n01855672 goose\n",
      "12 n01882714 koala, koala bear, kangaroo bear, native bear, Phascolarctos cinereus\n",
      "13 n01910747 jellyfish\n",
      "14 n01917289 brain coral\n",
      "15 n01944390 snail\n",
      "16 n01945685 slug\n",
      "17 n01950731 sea slug, nudibranch\n",
      "18 n01983481 American lobster, Northern lobster, Maine lobster, Homarus americanus\n",
      "19 n01984695 spiny lobster, langouste, rock lobster, crawfish, crayfish, sea crawfish\n",
      "20 n02002724 black stork, Ciconia nigra\n"
     ]
    }
   ],
   "source": [
    "labels = {}\n",
    "for mapping in open('/Users/ykamoji/Documents/ImageDatabase/imageNet/tiny-imagenet-200/words.txt','r').readlines():\n",
    "    maps = mapping.replace('\\n','').split('\\t')\n",
    "    labels[maps[0]] = maps[1]\n",
    "\n",
    "def map_labels(dataset):\n",
    "    class_labels = {}\n",
    "    for ind in range(0, 100000, 500):\n",
    "        class_name = dataset.imgs[ind][0].split('/')[-1].split('_')[0]\n",
    "        class_label = dataset[ind][1]\n",
    "        class_labels[class_label] = class_name\n",
    "    return class_labels\n",
    "\n",
    "# for ind, (k,v) in enumerate(labels.items()):\n",
    "#     print(k,v)\n",
    "#     if ind > 10:\n",
    "#         break\n",
    "\n",
    "class_labels = map_labels(train_dataset)\n",
    "\n",
    "for ind, (k, v) in enumerate(class_labels.items()):\n",
    "    print(k, v, labels[v])\n",
    "    if ind == 20:\n",
    "        break"
   ]
  },
  {
   "cell_type": "code",
   "execution_count": 6,
   "id": "4ac02b8f80c6bc38",
   "metadata": {
    "collapsed": false,
    "jupyter": {
     "outputs_hidden": false
    },
    "tags": []
   },
   "outputs": [
    {
     "name": "stdout",
     "output_type": "stream",
     "text": [
      "9 n01774750 tarantula\n"
     ]
    },
    {
     "data": {
      "image/png": "[encoded data removed]",
      "text/plain": [
       "<Figure size 640x480 with 1 Axes>"
      ]
     },
     "metadata": {},
     "output_type": "display_data"
    }
   ],
   "source": [
    "index = 4600\n",
    "plt.imshow(torch.permute(train_dataset[index][0], (1,2,0)).numpy())\n",
    "label_class = train_dataset.imgs[index][0].split('/')[-1].split('_')[0]\n",
    "label_num = train_dataset[index][1]\n",
    "print(label_num, label_class, labels[class_labels[label_num]])\n",
    "# class_name = class_labels[labels[label_num]]"
   ]
  },
  {
   "cell_type": "code",
   "execution_count": 15,
   "id": "9d65e8fb0d6dfac7",
   "metadata": {
    "collapsed": false,
    "jupyter": {
     "outputs_hidden": false
    },
    "tags": []
   },
   "outputs": [],
   "source": [
    "custom_config = {\n",
    "        \"img_size\": 64,\n",
    "        \"in_chans\": 3,\n",
    "        \"patch_size\": 16,\n",
    "        \"embed_dim\": 768,\n",
    "        \"depth\": 6,\n",
    "        \"n_heads\": 8,\n",
    "        \"qkv_bias\": True,\n",
    "        \"mlp_ratio\": 4,\n",
    "        \"n_classes\":200\n",
    "}"
   ]
  },
  {
   "cell_type": "code",
   "execution_count": 18,
   "id": "9b4f3fcdeabb3819",
   "metadata": {
    "collapsed": false,
    "jupyter": {
     "outputs_hidden": false
    },
    "tags": []
   },
   "outputs": [
    {
     "name": "stderr",
     "output_type": "stream",
     "text": [
      "[rank: 0] Received SIGTERM: 15\n"
     ]
    }
   ],
   "source": [
    "class VisionTransformerWrapper(L.LightningModule):\n",
    "    \n",
    "    def __init__(self, model, **kvargs):\n",
    "        super(VisionTransformerWrapper, self).__init__()\n",
    "        self.model = model(**kvargs)\n",
    "        self.accuracy = Accuracy(task=\"multiclass\", num_classes=200)\n",
    "        \n",
    "    def forward(self, x):\n",
    "        return self.model(x)\n",
    "    \n",
    "    def training_step(self, batch, batch_idx):\n",
    "        images, labels = batch\n",
    "        # print(images.shape)\n",
    "        outputs = self(images)\n",
    "        loss = F.cross_entropy(outputs, labels)\n",
    "        self.log(\"loss\", loss, on_step=False, on_epoch=True, prog_bar=True, logger=True)\n",
    "        \n",
    "        self.accuracy(outputs, labels)\n",
    "        \n",
    "        self.log('train_acc_step', self.accuracy)\n",
    "        \n",
    "        return loss\n",
    "        \n",
    "    def configure_optimizers(self):\n",
    "        return torch.optim.SGD(self.parameters(), lr=lr)\n",
    "        \n",
    "    def train_dataloader(self):\n",
    "       train_dataset = torchvision.datasets.ImageFolder(root='/Users/ykamoji/Documents/ImageDatabase/imageNet/tiny-imagenet-200/train', transform=compose)\n",
    "       train_loader = DataLoader(train_dataset, batch_size=batch_size, shuffle=True, num_workers=11, persistent_workers=True)\n",
    "       return train_loader"
   ]
  },
  {
   "cell_type": "code",
   "execution_count": 17,
   "id": "32c75f54481f1b3",
   "metadata": {
    "collapsed": false,
    "jupyter": {
     "outputs_hidden": false
    },
    "tags": []
   },
   "outputs": [
    {
     "name": "stderr",
     "output_type": "stream",
     "text": [
      "GPU available: True (mps), used: True\n",
      "TPU available: False, using: 0 TPU cores\n",
      "IPU available: False, using: 0 IPUs\n",
      "HPU available: False, using: 0 HPUs\n",
      "Missing logger folder: /Users/ykamoji/Documents/Learning/ViT/BasicViT/lightning_logs\n",
      "\n",
      "  | Name     | Type               | Params\n",
      "------------------------------------------------\n",
      "0 | model    | VisionTransformer  | 43.3 M\n",
      "1 | accuracy | MulticlassAccuracy | 0     \n",
      "------------------------------------------------\n",
      "43.3 M    Trainable params\n",
      "0         Non-trainable params\n",
      "43.3 M    Total params\n",
      "173.148   Total estimated model params size (MB)\n"
     ]
    },
    {
     "data": {
      "application/vnd.jupyter.widget-view+json": {
       "model_id": "247ccc21097847ff9fde267744db5222",
       "version_major": 2,
       "version_minor": 0
      },
      "text/plain": [
       "Training: |          | 0/? [00:00<?, ?it/s]"
      ]
     },
     "metadata": {},
     "output_type": "display_data"
    },
    {
     "name": "stderr",
     "output_type": "stream",
     "text": [
      "/Users/ykamoji/anaconda3/lib/python3.11/site-packages/lightning/pytorch/trainer/call.py:54: Detected KeyboardInterrupt, attempting graceful shutdown...\n"
     ]
    }
   ],
   "source": [
    "trainer = Trainer(max_epochs = 10, fast_dev_run=False)\n",
    "model = VisionTransformerWrapper(VisionTransformer, **custom_config)\n",
    "trainer.fit(model)"
   ]
  },
  {
   "cell_type": "code",
   "execution_count": null,
   "id": "94594a3c-ae2e-48ba-b505-1101d678b414",
   "metadata": {
    "tags": []
   },
   "outputs": [],
   "source": [
    "model.eval()"
   ]
  },
  {
   "cell_type": "code",
   "execution_count": null,
   "id": "131a8611-6d29-4414-93d1-48ef1edb3678",
   "metadata": {
    "tags": []
   },
   "outputs": [],
   "source": [
    "img = train_dataset[0][0]\n",
    "# img = (np.array(img) / 128) - 1  # in the range -1, 1\n",
    "print(img.shape)\n",
    "logits = model(img.unsqueeze(0).to(torch.float32))\n",
    "# print(logits)\n",
    "probs = torch.nn.functional.softmax(logits, dim=-1)\n",
    "top_probs, top_ixs = probs[0].topk(5)\n",
    "# print(f\"\\n{image}\")\n",
    "for i, (ix_, prob_) in enumerate(zip(top_ixs, top_probs)):\n",
    "    ix = ix_.item()\n",
    "    prob = prob_.item()\n",
    "    cls = labels[class_labels[ix]]\n",
    "    print(f\"{i}: {cls:<45} --- {prob:.4f}\")"
   ]
  },
  {
   "cell_type": "code",
   "execution_count": null,
   "id": "4e67ffc7-44b0-4bc4-8487-79dfd101bbe0",
   "metadata": {
    "tags": []
   },
   "outputs": [],
   "source": [
    "torch.mps.empty_cache()"
   ]
  },
  {
   "cell_type": "code",
   "execution_count": null,
   "id": "05d2ca9a-0d75-433c-a2de-676ad3afca56",
   "metadata": {},
   "outputs": [],
   "source": []
  }
 ],
 "metadata": {
  "kernelspec": {
   "display_name": "Python 3 (ipykernel)",
   "language": "python",
   "name": "python3"
  },
  "language_info": {
   "codemirror_mode": {
    "name": "ipython",
    "version": 3
   },
   "file_extension": ".py",
   "mimetype": "text/x-python",
   "name": "python",
   "nbconvert_exporter": "python",
   "pygments_lexer": "ipython3",
   "version": "3.11.4"
  }
 },
 "nbformat": 4,
 "nbformat_minor": 5
}
